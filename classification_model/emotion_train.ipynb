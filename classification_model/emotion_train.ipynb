#라이브러리 import 
from transformers import TFAutoModelForSequenceClassification, AutoTokenizer
from transformers import DataCollatorWithPadding
from datasets import Dataset
import tensorflow as tf
import numpy as np

